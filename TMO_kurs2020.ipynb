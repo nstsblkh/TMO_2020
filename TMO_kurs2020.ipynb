{
 "cells": [
  {
   "cell_type": "markdown",
   "metadata": {},
   "source": [
    "# импорт библиотек"
   ]
  },
  {
   "cell_type": "code",
   "execution_count": 38,
   "metadata": {},
   "outputs": [],
   "source": [
    "import pandas as pd\n",
    "import numpy as np\n",
    "import seaborn as sns\n",
    "from sklearn.preprocessing import LabelEncoder\n",
    "import datetime\n",
    "from sklearn.preprocessing import MinMaxScaler\n",
    "import seaborn as sns\n",
    "import matplotlib.pyplot as plt\n",
    "\n",
    "from sklearn.linear_model import LinearRegression\n",
    "from sklearn.model_selection import train_test_split\n",
    "from sklearn.neighbors import KNeighborsRegressor\n",
    "from sklearn.metrics import confusion_matrix\n",
    "from sklearn.metrics import plot_confusion_matrix\n",
    "from sklearn.model_selection import GridSearchCV\n",
    "from sklearn.metrics import mean_absolute_error, mean_squared_error, mean_squared_log_error, median_absolute_error, r2_score \n",
    "from sklearn.metrics import roc_curve, roc_auc_score\n",
    "from sklearn.svm import SVC, NuSVC, LinearSVC, OneClassSVM, SVR, NuSVR, LinearSVR\n",
    "from sklearn.tree import DecisionTreeRegressor, export_graphviz\n",
    "from sklearn.ensemble import RandomForestRegressor\n",
    "from sklearn.ensemble import ExtraTreesRegressor\n",
    "from sklearn.ensemble import GradientBoostingRegressor"
   ]
  },
  {
   "cell_type": "markdown",
   "metadata": {},
   "source": [
    "# http://stat.gibdd.ru/ Москва 2019"
   ]
  },
  {
   "cell_type": "code",
   "execution_count": 39,
   "metadata": {},
   "outputs": [],
   "source": [
    "dtp_train = pd.read_csv('train (3).csv')"
   ]
  },
  {
   "cell_type": "code",
   "execution_count": 40,
   "metadata": {},
   "outputs": [
    {
     "name": "stdout",
     "output_type": "stream",
     "text": [
      "размер dtp_train:  (32516, 31)\n"
     ]
    }
   ],
   "source": [
    "print('размер dtp_train: ', dtp_train.shape)"
   ]
  },
  {
   "cell_type": "code",
   "execution_count": 41,
   "metadata": {},
   "outputs": [
    {
     "data": {
      "text/html": [
       "<div>\n",
       "<style scoped>\n",
       "    .dataframe tbody tr th:only-of-type {\n",
       "        vertical-align: middle;\n",
       "    }\n",
       "\n",
       "    .dataframe tbody tr th {\n",
       "        vertical-align: top;\n",
       "    }\n",
       "\n",
       "    .dataframe thead th {\n",
       "        text-align: right;\n",
       "    }\n",
       "</style>\n",
       "<table border=\"1\" class=\"dataframe\">\n",
       "  <thead>\n",
       "    <tr style=\"text-align: right;\">\n",
       "      <th></th>\n",
       "      <th>id</th>\n",
       "      <th>victims</th>\n",
       "      <th>geom_buffer</th>\n",
       "      <th>typ_cod</th>\n",
       "      <th>nlevel</th>\n",
       "      <th>btf</th>\n",
       "      <th>oneway</th>\n",
       "      <th>surface</th>\n",
       "      <th>splitter</th>\n",
       "      <th>speedlim</th>\n",
       "      <th>...</th>\n",
       "      <th>rd_e_name</th>\n",
       "      <th>rd_l_name</th>\n",
       "      <th>f_parking</th>\n",
       "      <th>t_parking</th>\n",
       "      <th>bicyclanes</th>\n",
       "      <th>geom_buffer_length</th>\n",
       "      <th>EDGEID</th>\n",
       "      <th>TYP_COD</th>\n",
       "      <th>avg_check_speed</th>\n",
       "      <th>cnt_fix</th>\n",
       "    </tr>\n",
       "  </thead>\n",
       "  <tbody>\n",
       "    <tr>\n",
       "      <th>0</th>\n",
       "      <td>19541622</td>\n",
       "      <td>0.0</td>\n",
       "      <td>POLYGON ((36.8413497899442 55.4294441925851, 3...</td>\n",
       "      <td>7700</td>\n",
       "      <td>4</td>\n",
       "      <td>0</td>\n",
       "      <td>0</td>\n",
       "      <td>4</td>\n",
       "      <td>0</td>\n",
       "      <td>60</td>\n",
       "      <td>...</td>\n",
       "      <td>NaN</td>\n",
       "      <td>NaN</td>\n",
       "      <td>0</td>\n",
       "      <td>0</td>\n",
       "      <td>0</td>\n",
       "      <td>0.001581</td>\n",
       "      <td>19541622</td>\n",
       "      <td>7813</td>\n",
       "      <td>0.0</td>\n",
       "      <td>0.0</td>\n",
       "    </tr>\n",
       "    <tr>\n",
       "      <th>1</th>\n",
       "      <td>19541615</td>\n",
       "      <td>0.0</td>\n",
       "      <td>POLYGON ((36.8466870400556 55.4185527970639, 3...</td>\n",
       "      <td>7700</td>\n",
       "      <td>3</td>\n",
       "      <td>0</td>\n",
       "      <td>0</td>\n",
       "      <td>2</td>\n",
       "      <td>1</td>\n",
       "      <td>60</td>\n",
       "      <td>...</td>\n",
       "      <td>NaN</td>\n",
       "      <td>46К-3230</td>\n",
       "      <td>0</td>\n",
       "      <td>0</td>\n",
       "      <td>0</td>\n",
       "      <td>0.002759</td>\n",
       "      <td>19541615</td>\n",
       "      <td>7813</td>\n",
       "      <td>0.0</td>\n",
       "      <td>0.0</td>\n",
       "    </tr>\n",
       "  </tbody>\n",
       "</table>\n",
       "<p>2 rows × 31 columns</p>\n",
       "</div>"
      ],
      "text/plain": [
       "         id  victims                                        geom_buffer  \\\n",
       "0  19541622      0.0  POLYGON ((36.8413497899442 55.4294441925851, 3...   \n",
       "1  19541615      0.0  POLYGON ((36.8466870400556 55.4185527970639, 3...   \n",
       "\n",
       "   typ_cod  nlevel  btf  oneway  surface  splitter  speedlim  ...  rd_e_name  \\\n",
       "0     7700       4    0       0        4         0        60  ...        NaN   \n",
       "1     7700       3    0       0        2         1        60  ...        NaN   \n",
       "\n",
       "   rd_l_name  f_parking  t_parking  bicyclanes  geom_buffer_length    EDGEID  \\\n",
       "0        NaN          0          0           0            0.001581  19541622   \n",
       "1   46К-3230          0          0           0            0.002759  19541615   \n",
       "\n",
       "   TYP_COD  avg_check_speed  cnt_fix  \n",
       "0     7813              0.0      0.0  \n",
       "1     7813              0.0      0.0  \n",
       "\n",
       "[2 rows x 31 columns]"
      ]
     },
     "execution_count": 41,
     "metadata": {},
     "output_type": "execute_result"
    }
   ],
   "source": [
    "dtp_train.head(2)"
   ]
  },
  {
   "cell_type": "markdown",
   "metadata": {},
   "source": [
    "# Будем решать задачу регрессии для прогноза пострадавших (столбец victims)"
   ]
  },
  {
   "cell_type": "code",
   "execution_count": 42,
   "metadata": {},
   "outputs": [
    {
     "data": {
      "text/plain": [
       "<matplotlib.axes._subplots.AxesSubplot at 0x2cca81145e0>"
      ]
     },
     "execution_count": 42,
     "metadata": {},
     "output_type": "execute_result"
    },
    {
     "data": {
      "image/png": "[encoded data removed]",
      "text/plain": [
       "<Figure size 432x288 with 1 Axes>"
      ]
     },
     "metadata": {
      "needs_background": "light"
     },
     "output_type": "display_data"
    }
   ],
   "source": [
    "dtp_train['victims'].hist()"
   ]
  },
  {
   "cell_type": "markdown",
   "metadata": {},
   "source": [
    "# посчитаем дисбаланс между нулевыми значениями и значениями больше 0"
   ]
  },
  {
   "cell_type": "code",
   "execution_count": 43,
   "metadata": {},
   "outputs": [
    {
     "name": "stdout",
     "output_type": "stream",
     "text": [
      "количество 0 составляет 83.5%, а количество значений > 0 составляет 16.5%.\n"
     ]
    }
   ],
   "source": [
    "# посчитаем дисбаланс классов\n",
    "total = dtp_train['victims'].value_counts()\n",
    "count_0 = total[0]\n",
    "count_more_0 = sum(total)-total[0]\n",
    "print('количество 0 составляет {}%, а количество значений > 0 составляет {}%.'\n",
    "      .format(round(count_0 * 100 / sum(total),1), round(count_more_0 * 100 / sum(total),1)))"
   ]
  },
  {
   "cell_type": "markdown",
   "metadata": {},
   "source": [
    "# Проверим наличие пустых значений и посмотрим тип данных в колонках"
   ]
  },
  {
   "cell_type": "code",
   "execution_count": 44,
   "metadata": {
    "scrolled": false
   },
   "outputs": [
    {
     "name": "stdout",
     "output_type": "stream",
     "text": [
      "<class 'pandas.core.frame.DataFrame'>\n",
      "Int64Index: 32516 entries, 0 to 32515\n",
      "Data columns (total 31 columns):\n",
      " #   Column              Non-Null Count  Dtype  \n",
      "---  ------              --------------  -----  \n",
      " 0   id                  32516 non-null  int64  \n",
      " 1   victims             32516 non-null  float64\n",
      " 2   geom_buffer         32516 non-null  object \n",
      " 3   typ_cod             32516 non-null  int64  \n",
      " 4   nlevel              32516 non-null  int64  \n",
      " 5   btf                 32516 non-null  int64  \n",
      " 6   oneway              32516 non-null  int64  \n",
      " 7   surface             32516 non-null  int64  \n",
      " 8   splitter            32516 non-null  int64  \n",
      " 9   speedlim            32516 non-null  int64  \n",
      " 10  f_rspeed            32516 non-null  int64  \n",
      " 11  t_rspeed            32516 non-null  int64  \n",
      " 12  lanewidth           32516 non-null  int64  \n",
      " 13  f_lanes             32516 non-null  int64  \n",
      " 14  t_lanes             32516 non-null  int64  \n",
      " 15  f_sidewalk          32516 non-null  int64  \n",
      " 16  t_sidewalk          32516 non-null  int64  \n",
      " 17  f_buslanes          32516 non-null  int64  \n",
      " 18  t_buslanes          32516 non-null  int64  \n",
      " 19  multidigit          32516 non-null  int64  \n",
      " 20  rd_name             27105 non-null  object \n",
      " 21  rd_e_name           17 non-null     object \n",
      " 22  rd_l_name           1517 non-null   object \n",
      " 23  f_parking           32516 non-null  int64  \n",
      " 24  t_parking           32516 non-null  int64  \n",
      " 25  bicyclanes          32516 non-null  int64  \n",
      " 26  geom_buffer_length  32516 non-null  float64\n",
      " 27  EDGEID              32516 non-null  int64  \n",
      " 28  TYP_COD             32516 non-null  int64  \n",
      " 29  avg_check_speed     32516 non-null  float64\n",
      " 30  cnt_fix             32516 non-null  float64\n",
      "dtypes: float64(4), int64(23), object(4)\n",
      "memory usage: 7.9+ MB\n"
     ]
    }
   ],
   "source": [
    "dtp_train.info()"
   ]
  },
  {
   "cell_type": "markdown",
   "metadata": {},
   "source": [
    "# печать информации по пропущенным значениям в таблице"
   ]
  },
  {
   "cell_type": "code",
   "execution_count": 45,
   "metadata": {},
   "outputs": [],
   "source": [
    "# печать информации по пропущенным значениям в таблице\n",
    "def check_na_labels(df):\n",
    "    total = {}\n",
    "    for col in df.columns:\n",
    "        pct_missing = np.mean(df[col].isnull())\n",
    "        total[col] = round(pct_missing * 100)\n",
    "        print('{} - {}%'.format(col, round(pct_missing*100)))"
   ]
  },
  {
   "cell_type": "code",
   "execution_count": 46,
   "metadata": {},
   "outputs": [
    {
     "name": "stdout",
     "output_type": "stream",
     "text": [
      "id - 0.0%\n",
      "victims - 0.0%\n",
      "geom_buffer - 0.0%\n",
      "typ_cod - 0.0%\n",
      "nlevel - 0.0%\n",
      "btf - 0.0%\n",
      "oneway - 0.0%\n",
      "surface - 0.0%\n",
      "splitter - 0.0%\n",
      "speedlim - 0.0%\n",
      "f_rspeed - 0.0%\n",
      "t_rspeed - 0.0%\n",
      "lanewidth - 0.0%\n",
      "f_lanes - 0.0%\n",
      "t_lanes - 0.0%\n",
      "f_sidewalk - 0.0%\n",
      "t_sidewalk - 0.0%\n",
      "f_buslanes - 0.0%\n",
      "t_buslanes - 0.0%\n",
      "multidigit - 0.0%\n",
      "rd_name - 17.0%\n",
      "rd_e_name - 100.0%\n",
      "rd_l_name - 95.0%\n",
      "f_parking - 0.0%\n",
      "t_parking - 0.0%\n",
      "bicyclanes - 0.0%\n",
      "geom_buffer_length - 0.0%\n",
      "EDGEID - 0.0%\n",
      "TYP_COD - 0.0%\n",
      "avg_check_speed - 0.0%\n",
      "cnt_fix - 0.0%\n"
     ]
    }
   ],
   "source": [
    "check_na_labels(dtp_train)"
   ]
  },
  {
   "cell_type": "markdown",
   "metadata": {},
   "source": [
    "# Много пропущенных значений для названий дорог"
   ]
  },
  {
   "cell_type": "code",
   "execution_count": 47,
   "metadata": {},
   "outputs": [],
   "source": [
    "dtp_train = dtp_train.drop(['rd_e_name', 'rd_l_name'], axis=1)"
   ]
  },
  {
   "cell_type": "code",
   "execution_count": 48,
   "metadata": {},
   "outputs": [],
   "source": [
    "dtp_train = dtp_train.dropna()"
   ]
  },
  {
   "cell_type": "markdown",
   "metadata": {},
   "source": [
    "# работа с rd_name"
   ]
  },
  {
   "cell_type": "code",
   "execution_count": 49,
   "metadata": {},
   "outputs": [],
   "source": [
    "dtp_train['rd_name'] = LabelEncoder().fit_transform(dtp_train['rd_name'])"
   ]
  },
  {
   "cell_type": "markdown",
   "metadata": {},
   "source": [
    "# corrmatrix"
   ]
  },
  {
   "cell_type": "code",
   "execution_count": 50,
   "metadata": {},
   "outputs": [
    {
     "data": {
      "text/plain": [
       "<matplotlib.axes._subplots.AxesSubplot at 0x2cca9f50d30>"
      ]
     },
     "execution_count": 50,
     "metadata": {},
     "output_type": "execute_result"
    },
    {
     "data": {
      "image/png": "[encoded data removed]",
      "text/plain": [
       "<Figure size 1440x1080 with 2 Axes>"
      ]
     },
     "metadata": {
      "needs_background": "light"
     },
     "output_type": "display_data"
    }
   ],
   "source": [
    "fig, ax = plt.subplots(figsize=(20,15))\n",
    "sns.heatmap(dtp_train.corr(), fmt='.2f')"
   ]
  },
  {
   "cell_type": "markdown",
   "metadata": {},
   "source": [
    "# уберем один из признаков с корреляцией 1, а также те, что коррелируют со всеми остальными."
   ]
  },
  {
   "cell_type": "code",
   "execution_count": 51,
   "metadata": {},
   "outputs": [],
   "source": [
    "final_dtp = dtp_train.drop(['cnt_fix', 'typ_cod', 'lanewidth', 'f_parking', 'f_sidewalk', 'speedlim'], axis=1)"
   ]
  },
  {
   "cell_type": "code",
   "execution_count": 52,
   "metadata": {},
   "outputs": [],
   "source": [
    "X = final_dtp.drop(['id', 'victims', 'geom_buffer', 'EDGEID'],axis=1)\n",
    "y = final_dtp['victims']"
   ]
  },
  {
   "cell_type": "code",
   "execution_count": 53,
   "metadata": {},
   "outputs": [],
   "source": [
    "X_train, X_test, y_train, y_test = train_test_split(X, y, random_state=42)"
   ]
  },
  {
   "cell_type": "markdown",
   "metadata": {},
   "source": [
    "# метрики. Выбор метрик связан во-первых с соответствием прогноза тестовому множеству (mean_absolute_error, mean_squared_error), а также объяснемой долей дисперсии (r2)"
   ]
  },
  {
   "cell_type": "code",
   "execution_count": 54,
   "metadata": {},
   "outputs": [],
   "source": [
    "class MetricLogger:\n",
    "    \n",
    "    def __init__(self):\n",
    "        self.df = pd.DataFrame(\n",
    "            {'metric': pd.Series([], dtype='str'),\n",
    "            'alg': pd.Series([], dtype='str'),\n",
    "            'value': pd.Series([], dtype='float')})\n",
    "\n",
    "    def add(self, metric, alg, value):\n",
    "        \"\"\"\n",
    "        Добавление значения\n",
    "        \"\"\"\n",
    "        # Удаление значения если оно уже было ранее добавлено\n",
    "        self.df.drop(self.df[(self.df['metric']==metric)&(self.df['alg']==alg)].index, inplace = True)\n",
    "        # Добавление нового значения\n",
    "        temp = [{'metric':metric, 'alg':alg, 'value':value}]\n",
    "        self.df = self.df.append(temp, ignore_index=True)\n",
    "\n",
    "    def get_data_for_metric(self, metric, ascending=True):\n",
    "        \"\"\"\n",
    "        Формирование данных с фильтром по метрике\n",
    "        \"\"\"\n",
    "        temp_data = self.df[self.df['metric']==metric]\n",
    "        temp_data_2 = temp_data.sort_values(by='value', ascending=ascending)\n",
    "        return temp_data_2['alg'].values, temp_data_2['value'].values\n",
    "    \n",
    "    def plot(self, str_header, metric, ascending=True, figsize=(5, 5)):\n",
    "        \"\"\"\n",
    "        Вывод графика\n",
    "        \"\"\"\n",
    "        array_labels, array_metric = self.get_data_for_metric(metric, ascending)\n",
    "        fig, ax1 = plt.subplots(figsize=figsize)\n",
    "        pos = np.arange(len(array_metric))\n",
    "        rects = ax1.barh(pos, array_metric,\n",
    "                         align='center',\n",
    "                         height=0.5, \n",
    "                         tick_label=array_labels)\n",
    "        ax1.set_title(str_header)\n",
    "        for a,b in zip(pos, array_metric):\n",
    "            plt.text(0.5, a-0.05, str(round(b,3)), color='white')\n",
    "        plt.show()    "
   ]
  },
  {
   "cell_type": "code",
   "execution_count": 55,
   "metadata": {},
   "outputs": [],
   "source": [
    "# Модели\n",
    "regr_models = {'LR': LinearRegression(), \n",
    "               'KNN_5':KNeighborsRegressor(n_neighbors=5),\n",
    "               'SVR':SVR(),\n",
    "               'Tree':DecisionTreeRegressor(),\n",
    "               'RF':RandomForestRegressor(),\n",
    "               'GB':GradientBoostingRegressor()}"
   ]
  },
  {
   "cell_type": "code",
   "execution_count": 56,
   "metadata": {},
   "outputs": [],
   "source": [
    "# Сохранение метрик\n",
    "regrMetricLogger = MetricLogger()"
   ]
  },
  {
   "cell_type": "code",
   "execution_count": 79,
   "metadata": {},
   "outputs": [],
   "source": [
    "def regr_train_model(model_name, model, regrMetricLogger):\n",
    "    model.fit(X_train, y_train)\n",
    "    y_pred = model.predict(X_test)\n",
    "    \n",
    "    mae = mean_absolute_error(y_test, y_pred)\n",
    "    mse = mean_squared_error(y_test, y_pred)\n",
    "    r2 = r2_score(y_test, y_pred)\n",
    "\n",
    "    regrMetricLogger.add('MAE', model_name, mae)\n",
    "    regrMetricLogger.add('MSE', model_name, mse)\n",
    "    regrMetricLogger.add('R2', model_name, r2)    \n",
    "    \n",
    "    print('*****************************************************')\n",
    "    print(model)\n",
    "    print()\n",
    "    print('MAE={}, MSE={}, R2={}'.format(\n",
    "        round(mae, 3), round(mse, 3), round(r2, 3)))\n",
    "    print('*****************************************************')"
   ]
  },
  {
   "cell_type": "code",
   "execution_count": 80,
   "metadata": {},
   "outputs": [
    {
     "name": "stdout",
     "output_type": "stream",
     "text": [
      "*****************************************************\n",
      "LinearRegression()\n",
      "\n",
      "MAE=0.417, MSE=0.489, R2=0.026\n",
      "*****************************************************\n",
      "*****************************************************\n",
      "KNeighborsRegressor()\n",
      "\n",
      "MAE=0.399, MSE=0.569, R2=-0.134\n",
      "*****************************************************\n",
      "*****************************************************\n",
      "SVR()\n",
      "\n",
      "MAE=0.319, MSE=0.525, R2=-0.046\n",
      "*****************************************************\n",
      "*****************************************************\n",
      "DecisionTreeRegressor()\n",
      "\n",
      "MAE=0.42, MSE=0.991, R2=-0.974\n",
      "*****************************************************\n",
      "*****************************************************\n",
      "RandomForestRegressor()\n",
      "\n",
      "MAE=0.406, MSE=0.526, R2=-0.048\n",
      "*****************************************************\n",
      "*****************************************************\n",
      "GradientBoostingRegressor()\n",
      "\n",
      "MAE=0.412, MSE=0.479, R2=0.047\n",
      "*****************************************************\n"
     ]
    }
   ],
   "source": [
    "for model_name, model in regr_models.items():\n",
    "    regr_train_model(model_name, model, regrMetricLogger)"
   ]
  },
  {
   "cell_type": "code",
   "execution_count": 63,
   "metadata": {},
   "outputs": [
    {
     "name": "stdout",
     "output_type": "stream",
     "text": [
      "Wall time: 2min 25s\n"
     ]
    },
    {
     "data": {
      "text/plain": [
       "GridSearchCV(estimator=GradientBoostingRegressor(random_state=42),\n",
       "             param_grid={'max_depth': [1, 3, 5, 7],\n",
       "                         'min_samples_leaf': [1, 2, 3],\n",
       "                         'n_estimators': [100, 50]},\n",
       "             scoring='r2')"
      ]
     },
     "execution_count": 63,
     "metadata": {},
     "output_type": "execute_result"
    }
   ],
   "source": [
    "%%time\n",
    "tuned_parameters = {'max_depth': [1,3,5,7],\n",
    "                    'n_estimators': [100,50],\n",
    "                   'min_samples_leaf': [1,2,3]}\n",
    "gs = GridSearchCV(RandomForestRegressor(random_state=42), tuned_parameters, scoring='r2')\n",
    "gs.fit(X_train,y_train)"
   ]
  },
  {
   "cell_type": "code",
   "execution_count": 64,
   "metadata": {},
   "outputs": [
    {
     "data": {
      "text/plain": [
       "GradientBoostingRegressor(max_depth=5, min_samples_leaf=3, random_state=42)"
      ]
     },
     "execution_count": 64,
     "metadata": {},
     "output_type": "execute_result"
    }
   ],
   "source": [
    "gs.best_estimator_"
   ]
  },
  {
   "cell_type": "code",
   "execution_count": 65,
   "metadata": {},
   "outputs": [],
   "source": [
    "regr_models_grid = {'GB': gs.best_estimator_}"
   ]
  },
  {
   "cell_type": "code",
   "execution_count": 78,
   "metadata": {},
   "outputs": [
    {
     "name": "stdout",
     "output_type": "stream",
     "text": [
      "*****************************************************\n",
      "GradientBoostingRegressor(max_depth=5, min_samples_leaf=3, random_state=42)\n",
      "\n",
      "MAE=0.408, MSE=0.486, R2=-7.166\n",
      "*****************************************************\n"
     ]
    }
   ],
   "source": [
    "for model_name, model in regr_models_grid.items():\n",
    "    regr_train_model(model_name, model, regrMetricLogger)"
   ]
  },
  {
   "cell_type": "markdown",
   "metadata": {},
   "source": [
    "# Проверка на тесте и сравнение прогноза и теста"
   ]
  },
  {
   "cell_type": "code",
   "execution_count": 75,
   "metadata": {},
   "outputs": [
    {
     "data": {
      "text/plain": [
       "(array([6.445e+03, 2.100e+02, 6.800e+01, 2.300e+01, 1.400e+01, 1.400e+01,\n",
       "        1.000e+00, 1.000e+00, 0.000e+00, 1.000e+00]),\n",
       " array([ 0. ,  1.2,  2.4,  3.6,  4.8,  6. ,  7.2,  8.4,  9.6, 10.8, 12. ]),\n",
       " <a list of 10 Patch objects>)"
      ]
     },
     "execution_count": 75,
     "metadata": {},
     "output_type": "execute_result"
    },
    {
     "data": {
      "image/png": "[encoded data removed]",
      "text/plain": [
       "<Figure size 360x504 with 2 Axes>"
      ]
     },
     "metadata": {
      "needs_background": "light"
     },
     "output_type": "display_data"
    }
   ],
   "source": [
    "\n",
    "best_GB = gs.best_estimator_\n",
    "predict = best_GB.predict(X_test)\n",
    "\n",
    "fig, (ax1, ax2) = plt.subplots(nrows=2, figsize=(5,7))\n",
    "ax1.set_title('прогноз')\n",
    "ax1.hist(predict)\n",
    "ax2.set_title('тест')\n",
    "ax2.hist(y_test)"
   ]
  }
 ],
 "metadata": {
  "kernelspec": {
   "display_name": "Python 3",
   "language": "python",
   "name": "python3"
  },
  "language_info": {
   "codemirror_mode": {
    "name": "ipython",
    "version": 3
   },
   "file_extension": ".py",
   "mimetype": "text/x-python",
   "name": "python",
   "nbconvert_exporter": "python",
   "pygments_lexer": "ipython3",
   "version": "3.8.3"
  }
 },
 "nbformat": 4,
 "nbformat_minor": 4
}
